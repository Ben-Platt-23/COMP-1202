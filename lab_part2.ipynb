{
 "cells": [
  {
   "cell_type": "code",
   "execution_count": 3,
   "metadata": {},
   "outputs": [],
   "source": [
    "import requests\n",
    "\n",
    "url = 'http://quotes.toscrape.com/'\n",
    "response = requests.get(url)\n",
    "\n",
    "# Check if the request was successful\n",
    "if response.status_code == 200:\n",
    "    html_content = response.text\n",
    "else:\n",
    "    print(\"Failed to retrieve the website\")"
   ]
  },
  {
   "cell_type": "code",
   "execution_count": 8,
   "metadata": {},
   "outputs": [
    {
     "name": "stdout",
     "output_type": "stream",
     "text": [
      "Quote: “The world as we have created it is a process of our thinking. It cannot be changed without changing our thinking.”\n",
      "Author: Albert Einstein\n",
      "---\n",
      "Quote: “It is our choices, Harry, that show what we truly are, far more than our abilities.”\n",
      "Author: J.K. Rowling\n",
      "---\n",
      "Quote: “There are only two ways to live your life. One is as though nothing is a miracle. The other is as though everything is a miracle.”\n",
      "Author: Albert Einstein\n",
      "---\n",
      "Quote: “The person, be it gentleman or lady, who has not pleasure in a good novel, must be intolerably stupid.”\n",
      "Author: Jane Austen\n",
      "---\n",
      "Quote: “Imperfection is beauty, madness is genius and it's better to be absolutely ridiculous than absolutely boring.”\n",
      "Author: Marilyn Monroe\n",
      "---\n",
      "Quote: “Try not to become a man of success. Rather become a man of value.”\n",
      "Author: Albert Einstein\n",
      "---\n",
      "Quote: “It is better to be hated for what you are than to be loved for what you are not.”\n",
      "Author: André Gide\n",
      "---\n",
      "Quote: “I have not failed. I've just found 10,000 ways that won't work.”\n",
      "Author: Thomas A. Edison\n",
      "---\n",
      "Quote: “A woman is like a tea bag; you never know how strong it is until it's in hot water.”\n",
      "Author: Eleanor Roosevelt\n",
      "---\n",
      "Quote: “A day without sunshine is like, you know, night.”\n",
      "Author: Steve Martin\n",
      "---\n"
     ]
    }
   ],
   "source": [
    "from bs4 import BeautifulSoup\n",
    "\n",
    "soup = BeautifulSoup(html_content, 'html.parser')\n",
    "\n",
    "quote_elements = soup.findAll('div', class_='quote')\n",
    "\n",
    "\n",
    "for quote in quote_elements:\n",
    "    quote_text = quote.find('span', class_='text').text.strip()\n",
    "    author_name = quote.find('small', class_='author').text.strip()\n",
    "    \n",
    "    print(f'Quote: {quote_text}')\n",
    "    print(f'Author: {author_name}')\n",
    "    print('---')\n"
   ]
  },
  {
   "cell_type": "code",
   "execution_count": null,
   "metadata": {},
   "outputs": [],
   "source": []
  }
 ],
 "metadata": {
  "kernelspec": {
   "display_name": "Python 3",
   "language": "python",
   "name": "python3"
  },
  "language_info": {
   "codemirror_mode": {
    "name": "ipython",
    "version": 3
   },
   "file_extension": ".py",
   "mimetype": "text/x-python",
   "name": "python",
   "nbconvert_exporter": "python",
   "pygments_lexer": "ipython3",
   "version": "3.10.7"
  }
 },
 "nbformat": 4,
 "nbformat_minor": 2
}
